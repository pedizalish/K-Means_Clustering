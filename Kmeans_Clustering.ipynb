{
 "cells": [
  {
   "cell_type": "code",
   "execution_count": 63,
   "id": "47c6ef24",
   "metadata": {},
   "outputs": [],
   "source": [
    "import numpy as np\n",
    "import random\n",
    "import matplotlib.pyplot as plt\n",
    "import math\n",
    "import seaborn as sns\n",
    "import pandas as pd"
   ]
  },
  {
   "cell_type": "code",
   "execution_count": 64,
   "id": "ebad1d90",
   "metadata": {},
   "outputs": [],
   "source": [
    "# reading file\n",
    "\n",
    "path = r'C:\\Users\\User\\Desktop\\Excel\\tahlil_dade_data.csv'\n",
    "df = pd.read_csv(path)\n",
    "df[['attribute']] = df"
   ]
  },
  {
   "cell_type": "code",
   "execution_count": 65,
   "id": "9ccd0011",
   "metadata": {},
   "outputs": [
    {
     "data": {
      "text/html": [
       "<div>\n",
       "<style scoped>\n",
       "    .dataframe tbody tr th:only-of-type {\n",
       "        vertical-align: middle;\n",
       "    }\n",
       "\n",
       "    .dataframe tbody tr th {\n",
       "        vertical-align: top;\n",
       "    }\n",
       "\n",
       "    .dataframe thead th {\n",
       "        text-align: right;\n",
       "    }\n",
       "</style>\n",
       "<table border=\"1\" class=\"dataframe\">\n",
       "  <thead>\n",
       "    <tr style=\"text-align: right;\">\n",
       "      <th></th>\n",
       "      <th>name</th>\n",
       "      <th>sepal.length</th>\n",
       "      <th>sepal.width</th>\n",
       "      <th>petal.length</th>\n",
       "      <th>petal.width</th>\n",
       "      <th>variety</th>\n",
       "    </tr>\n",
       "  </thead>\n",
       "  <tbody>\n",
       "    <tr>\n",
       "      <th>0</th>\n",
       "      <td>0</td>\n",
       "      <td>5.1</td>\n",
       "      <td>3.5</td>\n",
       "      <td>1.4</td>\n",
       "      <td>0.2</td>\n",
       "      <td>Setosa</td>\n",
       "    </tr>\n",
       "    <tr>\n",
       "      <th>1</th>\n",
       "      <td>1</td>\n",
       "      <td>4.9</td>\n",
       "      <td>3</td>\n",
       "      <td>1.4</td>\n",
       "      <td>0.2</td>\n",
       "      <td>Setosa</td>\n",
       "    </tr>\n",
       "    <tr>\n",
       "      <th>2</th>\n",
       "      <td>2</td>\n",
       "      <td>4.7</td>\n",
       "      <td>3.2</td>\n",
       "      <td>1.3</td>\n",
       "      <td>0.2</td>\n",
       "      <td>Setosa</td>\n",
       "    </tr>\n",
       "    <tr>\n",
       "      <th>3</th>\n",
       "      <td>3</td>\n",
       "      <td>4.6</td>\n",
       "      <td>3.1</td>\n",
       "      <td>1.5</td>\n",
       "      <td>0.2</td>\n",
       "      <td>Setosa</td>\n",
       "    </tr>\n",
       "    <tr>\n",
       "      <th>4</th>\n",
       "      <td>4</td>\n",
       "      <td>5</td>\n",
       "      <td>3.6</td>\n",
       "      <td>1.4</td>\n",
       "      <td>0.2</td>\n",
       "      <td>Setosa</td>\n",
       "    </tr>\n",
       "    <tr>\n",
       "      <th>...</th>\n",
       "      <td>...</td>\n",
       "      <td>...</td>\n",
       "      <td>...</td>\n",
       "      <td>...</td>\n",
       "      <td>...</td>\n",
       "      <td>...</td>\n",
       "    </tr>\n",
       "    <tr>\n",
       "      <th>145</th>\n",
       "      <td>145</td>\n",
       "      <td>6.7</td>\n",
       "      <td>3</td>\n",
       "      <td>5.2</td>\n",
       "      <td>2.3</td>\n",
       "      <td>Virginica</td>\n",
       "    </tr>\n",
       "    <tr>\n",
       "      <th>146</th>\n",
       "      <td>146</td>\n",
       "      <td>6.3</td>\n",
       "      <td>2.5</td>\n",
       "      <td>5</td>\n",
       "      <td>1.9</td>\n",
       "      <td>Virginica</td>\n",
       "    </tr>\n",
       "    <tr>\n",
       "      <th>147</th>\n",
       "      <td>147</td>\n",
       "      <td>6.5</td>\n",
       "      <td>3</td>\n",
       "      <td>5.2</td>\n",
       "      <td>2</td>\n",
       "      <td>Virginica</td>\n",
       "    </tr>\n",
       "    <tr>\n",
       "      <th>148</th>\n",
       "      <td>148</td>\n",
       "      <td>6.2</td>\n",
       "      <td>3.4</td>\n",
       "      <td>5.4</td>\n",
       "      <td>2.3</td>\n",
       "      <td>Virginica</td>\n",
       "    </tr>\n",
       "    <tr>\n",
       "      <th>149</th>\n",
       "      <td>149</td>\n",
       "      <td>5.9</td>\n",
       "      <td>3</td>\n",
       "      <td>5.1</td>\n",
       "      <td>1.8</td>\n",
       "      <td>Virginica</td>\n",
       "    </tr>\n",
       "  </tbody>\n",
       "</table>\n",
       "<p>150 rows × 6 columns</p>\n",
       "</div>"
      ],
      "text/plain": [
       "     name sepal.length sepal.width petal.length petal.width    variety\n",
       "0       0          5.1         3.5          1.4         0.2     Setosa\n",
       "1       1          4.9           3          1.4         0.2     Setosa\n",
       "2       2          4.7         3.2          1.3         0.2     Setosa\n",
       "3       3          4.6         3.1          1.5         0.2     Setosa\n",
       "4       4            5         3.6          1.4         0.2     Setosa\n",
       "..    ...          ...         ...          ...         ...        ...\n",
       "145   145          6.7           3          5.2         2.3  Virginica\n",
       "146   146          6.3         2.5            5         1.9  Virginica\n",
       "147   147          6.5           3          5.2           2  Virginica\n",
       "148   148          6.2         3.4          5.4         2.3  Virginica\n",
       "149   149          5.9           3          5.1         1.8  Virginica\n",
       "\n",
       "[150 rows x 6 columns]"
      ]
     },
     "execution_count": 65,
     "metadata": {},
     "output_type": "execute_result"
    }
   ],
   "source": [
    "# split csv file\n",
    "\n",
    "df[['sepal.length','sepal.width','petal.length','petal.width','variety','-']] = df['attribute'].str.split(';', expand=True)\n",
    "df.drop(['attribute'], axis=1, inplace=True)\n",
    "df['name'] = df.index\n",
    "df[['name','sepal.length','sepal.width','petal.length','petal.width','variety']]"
   ]
  },
  {
   "cell_type": "code",
   "execution_count": 66,
   "id": "f8927906",
   "metadata": {},
   "outputs": [],
   "source": [
    "# changing data type\n",
    "\n",
    "column_names = ['sepal.length','sepal.width','petal.length','petal.width']\n",
    "\n",
    "for column in column_names :\n",
    "    df[column] = df[column].astype('float')\n",
    "\n",
    "#df['sepal.length'] = df['sepal.length'].astype('float')\n",
    "#df['sepal.width'] = df['sepal.width'].astype('float')\n",
    "#df['petal.length'] = df['petal.length'].astype('float')\n",
    "#df['petal.width'] = df['petal.width'].astype('float')"
   ]
  },
  {
   "cell_type": "code",
   "execution_count": 67,
   "id": "71ae2a52",
   "metadata": {},
   "outputs": [
    {
     "name": "stdout",
     "output_type": "stream",
     "text": [
      "x1 value : 5.1 , x2 value : 3.5 , x3 value : 1.4 , x4 value : 0.2\n",
      "x1 value : 4.9 , x2 value : 3.0 , x3 value : 1.4 , x4 value : 0.2\n",
      "x1 value : 4.7 , x2 value : 3.2 , x3 value : 1.3 , x4 value : 0.2\n",
      "x1 value : 4.6 , x2 value : 3.1 , x3 value : 1.5 , x4 value : 0.2\n",
      "x1 value : 5.0 , x2 value : 3.6 , x3 value : 1.4 , x4 value : 0.2\n"
     ]
    }
   ],
   "source": [
    "# determine data points\n",
    "\n",
    "Number_of_all_points = len(df)\n",
    "\n",
    "x1 = df['sepal.length']\n",
    "x2 = df['sepal.width']\n",
    "x3 = df['petal.length']\n",
    "x4 = df['petal.width']\n",
    "\n",
    "for j in range(5):\n",
    "    print('x1 value : ' + str(x1[j]) + ' , x2 value : ' + str(x2[j]) + ' , x3 value : ' + str(x3[j]) + ' , x4 value : ' + str(x4[j]))"
   ]
  },
  {
   "cell_type": "code",
   "execution_count": 68,
   "id": "b865cdc9",
   "metadata": {},
   "outputs": [
    {
     "data": {
      "image/png": "[encoded data removed]",
      "text/plain": [
       "<Figure size 1080x576 with 1 Axes>"
      ]
     },
     "metadata": {
      "needs_background": "light"
     },
     "output_type": "display_data"
    }
   ],
   "source": [
    "# plot data points (2D)\n",
    "\n",
    "plt.scatter(x1, x2, label= \"stars\", color= \"blue\", marker= \"*\", s=30)\n",
    "plt.gcf().set_size_inches((15, 8))\n",
    "plt.show()"
   ]
  },
  {
   "cell_type": "code",
   "execution_count": 69,
   "id": "9c02cf58",
   "metadata": {},
   "outputs": [
    {
     "data": {
      "image/png": "[encoded data removed]",
      "text/plain": [
       "<Figure size 1080x576 with 1 Axes>"
      ]
     },
     "metadata": {
      "needs_background": "light"
     },
     "output_type": "display_data"
    },
    {
     "name": "stdout",
     "output_type": "stream",
     "text": [
      "1th center ------> sepal.length : 5.0 , sepal.width : 3.4 , petal.length : 1.5 , petal.width : 0.2\n",
      "2th center ------> sepal.length : 4.6 , sepal.width : 3.2 , petal.length : 1.4 , petal.width : 0.2\n",
      "3th center ------> sepal.length : 6.7 , sepal.width : 3.1 , petal.length : 4.7 , petal.width : 1.5\n"
     ]
    }
   ],
   "source": [
    "# determine the k random centers\n",
    "\n",
    "k = 3\n",
    "\n",
    "def make_mask(data_size, sample_size):\n",
    "    mask = np.array([True] * sample_size + [False] * (data_size - sample_size))\n",
    "    np.random.shuffle(mask)\n",
    "    return mask\n",
    "\n",
    "mask = make_mask(Number_of_all_points, k)\n",
    "not_mask = np.invert(mask)\n",
    "\n",
    "plt.scatter(np.array(x1)[not_mask], np.array(x2)[not_mask], marker=\"*\", color=\"blue\")\n",
    "plt.scatter(np.array(x1)[mask], np.array(x2)[mask], marker=\"o\", color=\"red\")\n",
    "plt.gcf().set_size_inches((15,8))\n",
    "plt.show()\n",
    "\n",
    "for i in range(k):\n",
    "    print( str(i+1) + 'th center ------> ' + 'sepal.length : ' + str(np.array(x1)[mask][i]) + ' , sepal.width : ' + str(np.array(x2)[mask][i]) + ' , petal.length : ' + str(np.array(x3)[mask][i]) + ' , petal.width : ' + str(np.array(x4)[mask][i]))"
   ]
  },
  {
   "cell_type": "code",
   "execution_count": 70,
   "id": "9d444f44",
   "metadata": {},
   "outputs": [],
   "source": [
    "# define clusters\n",
    "\n",
    "cluster = []\n",
    "for i in range(k):\n",
    "    cluster.append([])\n",
    "    cluster[i].append([np.array(x1)[mask][i],np.array(x2)[mask][i],np.array(x3)[mask][i],np.array(x4)[mask][i]])"
   ]
  },
  {
   "cell_type": "code",
   "execution_count": 71,
   "id": "4d5de682",
   "metadata": {},
   "outputs": [],
   "source": [
    "# calculate the distance between center i and data point j\n",
    "\n",
    "for j in range(Number_of_all_points - k):\n",
    "    distance = []\n",
    "    for i in range(k):\n",
    "        distance.append(math.sqrt((np.array(x1)[not_mask][j] - np.array(x1)[mask][i]) ** 2 + (np.array(x2)[not_mask][j] - np.array(x2)[mask][i]) ** 2 + (np.array(x3)[not_mask][j] - np.array(x3)[mask][i]) ** 2 + (np.array(x4)[not_mask][j] - np.array(x4)[mask][i]) ** 2))\n",
    "    cluster[distance.index(min(distance))].append([np.array(x1)[not_mask][j],np.array(x2)[not_mask][j],np.array(x3)[not_mask][j],np.array(x4)[not_mask][j]])\n",
    "for i in range(k):\n",
    "    res = []\n",
    "    [res.append(x) for x in cluster[i] if x not in res]\n",
    "    cluster[i] = res"
   ]
  },
  {
   "cell_type": "code",
   "execution_count": 72,
   "id": "1a5bbb34",
   "metadata": {},
   "outputs": [
    {
     "data": {
      "image/png": "[encoded data removed]",
      "text/plain": [
       "<Figure size 1080x576 with 1 Axes>"
      ]
     },
     "metadata": {
      "needs_background": "light"
     },
     "output_type": "display_data"
    }
   ],
   "source": [
    "# Coloring of primary clusters\n",
    "\n",
    "colors = sns.color_palette(None, k)\n",
    "for i in range(len(cluster)):\n",
    "    plt.scatter(np.array(cluster[i])[:,0], np.array(cluster[i])[:,1], marker=\"*\", color=colors[i])\n",
    "plt.scatter(np.array(x1)[mask], np.array(x2)[mask], marker=\"o\", color=\"red\")\n",
    "plt.gcf().set_size_inches((15, 8))\n",
    "plt.show()"
   ]
  },
  {
   "cell_type": "code",
   "execution_count": 73,
   "id": "b780c9f1",
   "metadata": {},
   "outputs": [],
   "source": [
    "# Repeat the algorithm until the center points are not moved\n",
    "\n",
    "primary_mean_points = []\n",
    "for i in range(k):\n",
    "    primary_mean_points.append([np.array(x1)[mask][i],np.array(x2)[mask][i],np.array(x3)[mask][i],np.array(x4)[mask][i]])\n",
    "\n",
    "new_mean_points = []\n",
    "for i in range(len(cluster)):\n",
    "    new_mean_points.append([sum(np.array(cluster[i])[:,0])/len(np.array(cluster[i])[:,0]), sum(np.array(cluster[i])[:,1])/len(np.array(cluster[i])[:,1]), sum(np.array(cluster[i])[:,2])/len(np.array(cluster[i])[:,2]), sum(np.array(cluster[i])[:,3])/len(np.array(cluster[i])[:,3])])\n",
    "\n",
    "while new_mean_points != primary_mean_points :\n",
    "    cluster = []\n",
    "    for i in range(k):\n",
    "        cluster.append([])\n",
    "\n",
    "    for j in range(Number_of_all_points):\n",
    "        distance = []\n",
    "        for i in range(k):\n",
    "            distance.append(math.sqrt((np.array(x1)[j] - np.array(new_mean_points)[i][0]) ** 2 + (np.array(x2)[j] - np.array(new_mean_points)[i][1]) ** 2 + (np.array(x3)[j] - np.array(new_mean_points)[i][2]) ** 2 + (np.array(x4)[j] - np.array(new_mean_points)[i][3]) ** 2))\n",
    "        cluster[distance.index(min(distance))].append([np.array(x1)[j],np.array(x2)[j],np.array(x3)[j],np.array(x4)[j]])\n",
    "\n",
    "    primary_mean_points = new_mean_points\n",
    "    new_mean_points = []\n",
    "    for i in range(len(cluster)):\n",
    "        new_mean_points.append([sum(np.array(cluster[i])[:,0])/len(np.array(cluster[i])[:,0]), sum(np.array(cluster[i])[:,1])/len(np.array(cluster[i])[:,1]), sum(np.array(cluster[i])[:,2])/len(np.array(cluster[i])[:,2]), sum(np.array(cluster[i])[:,3])/len(np.array(cluster[i])[:,3])])"
   ]
  },
  {
   "cell_type": "code",
   "execution_count": 74,
   "id": "e897e87c",
   "metadata": {},
   "outputs": [
    {
     "data": {
      "image/png": "[encoded data removed]",
      "text/plain": [
       "<Figure size 1080x432 with 1 Axes>"
      ]
     },
     "metadata": {
      "needs_background": "light"
     },
     "output_type": "display_data"
    },
    {
     "name": "stdout",
     "output_type": "stream",
     "text": [
      "1th center ------> sepal.length : 5.206250000000001 , sepal.width : 3.540625 , petal.length : 1.6718749999999996 , petal.width : 0.35\n",
      "2th center ------> sepal.length : 4.7 , sepal.width : 3.10952380952381 , petal.length : 1.3904761904761904 , petal.width : 0.20000000000000004\n",
      "3th center ------> sepal.length : 6.30103092783505 , sepal.width : 2.8865979381443303 , petal.length : 4.958762886597939 , petal.width : 1.6958762886597945\n"
     ]
    }
   ],
   "source": [
    "# Coloring of the final clusters\n",
    "\n",
    "colors = sns.color_palette(None, k)\n",
    "for i in range(len(cluster)):\n",
    "    plt.scatter(np.array(cluster[i])[:,0], np.array(cluster[i])[:,1], marker=\"*\", color=colors[i])\n",
    "plt.scatter(np.array(x1)[mask], np.array(x2)[mask], marker=\"o\", color=\"red\")\n",
    "plt.gcf().set_size_inches((15, 6))\n",
    "plt.show()\n",
    "\n",
    "for i in range(k):\n",
    "    print( str(i+1) + 'th center ------> ' + 'sepal.length : ' + str(new_mean_points[i][0]) + ' , sepal.width : ' + str(new_mean_points[i][1]) + ' , petal.length : ' + str(new_mean_points[i][2]) + ' , petal.width : ' + str(new_mean_points[i][3]))"
   ]
  },
  {
   "cell_type": "code",
   "execution_count": 75,
   "id": "279088b6",
   "metadata": {},
   "outputs": [],
   "source": [
    "# remove unnecessary column\n",
    "\n",
    "df = df.drop('sepal.length;sepal.width;petal.length;petal.width;variety;', axis=1)"
   ]
  },
  {
   "cell_type": "code",
   "execution_count": 76,
   "id": "269acf30",
   "metadata": {},
   "outputs": [
    {
     "data": {
      "text/html": [
       "<div>\n",
       "<style scoped>\n",
       "    .dataframe tbody tr th:only-of-type {\n",
       "        vertical-align: middle;\n",
       "    }\n",
       "\n",
       "    .dataframe tbody tr th {\n",
       "        vertical-align: top;\n",
       "    }\n",
       "\n",
       "    .dataframe thead th {\n",
       "        text-align: right;\n",
       "    }\n",
       "</style>\n",
       "<table border=\"1\" class=\"dataframe\">\n",
       "  <thead>\n",
       "    <tr style=\"text-align: right;\">\n",
       "      <th></th>\n",
       "      <th>name</th>\n",
       "      <th>sepal.length</th>\n",
       "      <th>sepal.width</th>\n",
       "      <th>petal.length</th>\n",
       "      <th>petal.width</th>\n",
       "      <th>variety</th>\n",
       "      <th>class</th>\n",
       "    </tr>\n",
       "  </thead>\n",
       "  <tbody>\n",
       "    <tr>\n",
       "      <th>0</th>\n",
       "      <td>0</td>\n",
       "      <td>5.1</td>\n",
       "      <td>3.5</td>\n",
       "      <td>1.4</td>\n",
       "      <td>0.2</td>\n",
       "      <td>Setosa</td>\n",
       "      <td>A</td>\n",
       "    </tr>\n",
       "    <tr>\n",
       "      <th>1</th>\n",
       "      <td>1</td>\n",
       "      <td>4.9</td>\n",
       "      <td>3.0</td>\n",
       "      <td>1.4</td>\n",
       "      <td>0.2</td>\n",
       "      <td>Setosa</td>\n",
       "      <td>B</td>\n",
       "    </tr>\n",
       "    <tr>\n",
       "      <th>2</th>\n",
       "      <td>2</td>\n",
       "      <td>4.7</td>\n",
       "      <td>3.2</td>\n",
       "      <td>1.3</td>\n",
       "      <td>0.2</td>\n",
       "      <td>Setosa</td>\n",
       "      <td>B</td>\n",
       "    </tr>\n",
       "    <tr>\n",
       "      <th>3</th>\n",
       "      <td>3</td>\n",
       "      <td>4.6</td>\n",
       "      <td>3.1</td>\n",
       "      <td>1.5</td>\n",
       "      <td>0.2</td>\n",
       "      <td>Setosa</td>\n",
       "      <td>B</td>\n",
       "    </tr>\n",
       "    <tr>\n",
       "      <th>4</th>\n",
       "      <td>4</td>\n",
       "      <td>5.0</td>\n",
       "      <td>3.6</td>\n",
       "      <td>1.4</td>\n",
       "      <td>0.2</td>\n",
       "      <td>Setosa</td>\n",
       "      <td>A</td>\n",
       "    </tr>\n",
       "    <tr>\n",
       "      <th>...</th>\n",
       "      <td>...</td>\n",
       "      <td>...</td>\n",
       "      <td>...</td>\n",
       "      <td>...</td>\n",
       "      <td>...</td>\n",
       "      <td>...</td>\n",
       "      <td>...</td>\n",
       "    </tr>\n",
       "    <tr>\n",
       "      <th>145</th>\n",
       "      <td>145</td>\n",
       "      <td>6.7</td>\n",
       "      <td>3.0</td>\n",
       "      <td>5.2</td>\n",
       "      <td>2.3</td>\n",
       "      <td>Virginica</td>\n",
       "      <td>C</td>\n",
       "    </tr>\n",
       "    <tr>\n",
       "      <th>146</th>\n",
       "      <td>146</td>\n",
       "      <td>6.3</td>\n",
       "      <td>2.5</td>\n",
       "      <td>5.0</td>\n",
       "      <td>1.9</td>\n",
       "      <td>Virginica</td>\n",
       "      <td>C</td>\n",
       "    </tr>\n",
       "    <tr>\n",
       "      <th>147</th>\n",
       "      <td>147</td>\n",
       "      <td>6.5</td>\n",
       "      <td>3.0</td>\n",
       "      <td>5.2</td>\n",
       "      <td>2.0</td>\n",
       "      <td>Virginica</td>\n",
       "      <td>C</td>\n",
       "    </tr>\n",
       "    <tr>\n",
       "      <th>148</th>\n",
       "      <td>148</td>\n",
       "      <td>6.2</td>\n",
       "      <td>3.4</td>\n",
       "      <td>5.4</td>\n",
       "      <td>2.3</td>\n",
       "      <td>Virginica</td>\n",
       "      <td>C</td>\n",
       "    </tr>\n",
       "    <tr>\n",
       "      <th>149</th>\n",
       "      <td>149</td>\n",
       "      <td>5.9</td>\n",
       "      <td>3.0</td>\n",
       "      <td>5.1</td>\n",
       "      <td>1.8</td>\n",
       "      <td>Virginica</td>\n",
       "      <td>C</td>\n",
       "    </tr>\n",
       "  </tbody>\n",
       "</table>\n",
       "<p>150 rows × 7 columns</p>\n",
       "</div>"
      ],
      "text/plain": [
       "     name  sepal.length  sepal.width  petal.length  petal.width    variety  \\\n",
       "0       0           5.1          3.5           1.4          0.2     Setosa   \n",
       "1       1           4.9          3.0           1.4          0.2     Setosa   \n",
       "2       2           4.7          3.2           1.3          0.2     Setosa   \n",
       "3       3           4.6          3.1           1.5          0.2     Setosa   \n",
       "4       4           5.0          3.6           1.4          0.2     Setosa   \n",
       "..    ...           ...          ...           ...          ...        ...   \n",
       "145   145           6.7          3.0           5.2          2.3  Virginica   \n",
       "146   146           6.3          2.5           5.0          1.9  Virginica   \n",
       "147   147           6.5          3.0           5.2          2.0  Virginica   \n",
       "148   148           6.2          3.4           5.4          2.3  Virginica   \n",
       "149   149           5.9          3.0           5.1          1.8  Virginica   \n",
       "\n",
       "    class  \n",
       "0       A  \n",
       "1       B  \n",
       "2       B  \n",
       "3       B  \n",
       "4       A  \n",
       "..    ...  \n",
       "145     C  \n",
       "146     C  \n",
       "147     C  \n",
       "148     C  \n",
       "149     C  \n",
       "\n",
       "[150 rows x 7 columns]"
      ]
     },
     "execution_count": 76,
     "metadata": {},
     "output_type": "execute_result"
    }
   ],
   "source": [
    "# naming clusters\n",
    "\n",
    "Class = []\n",
    "for i in range(len(df)):\n",
    "    for j in range(len(cluster[0])):\n",
    "        if df['sepal.length'][i] == cluster[0][j][0] and df['sepal.width'][i] == cluster[0][j][1] and df['petal.length'][i] == cluster[0][j][2] and df['petal.width'][i] == cluster[0][j][3] :\n",
    "            Class.extend('A')\n",
    "            break\n",
    "    for j in range(len(cluster[1])):\n",
    "        if df['sepal.length'][i] == cluster[1][j][0] and df['sepal.width'][i] == cluster[1][j][1] and df['petal.length'][i] == cluster[1][j][2] and df['petal.width'][i] == cluster[1][j][3] :\n",
    "            Class.extend('B')\n",
    "            break\n",
    "    for j in range(len(cluster[2])):\n",
    "        if df['sepal.length'][i] == cluster[2][j][0] and df['sepal.width'][i] == cluster[2][j][1] and df['petal.length'][i] == cluster[2][j][2] and df['petal.width'][i] == cluster[2][j][3] :\n",
    "            Class.extend('C')\n",
    "            break\n",
    "df['class'] = Class\n",
    "df[['name','sepal.length','sepal.width','petal.length','petal.width','variety','class']]"
   ]
  }
 ],
 "metadata": {
  "kernelspec": {
   "display_name": "Python 3 (ipykernel)",
   "language": "python",
   "name": "python3"
  },
  "language_info": {
   "codemirror_mode": {
    "name": "ipython",
    "version": 3
   },
   "file_extension": ".py",
   "mimetype": "text/x-python",
   "name": "python",
   "nbconvert_exporter": "python",
   "pygments_lexer": "ipython3",
   "version": "3.11.1"
  },
  "vscode": {
   "interpreter": {
    "hash": "afb734500600fd355917ca529030176ea0ca205570884b88f2f6f7d791fd3fbe"
   }
  }
 },
 "nbformat": 4,
 "nbformat_minor": 5
}
